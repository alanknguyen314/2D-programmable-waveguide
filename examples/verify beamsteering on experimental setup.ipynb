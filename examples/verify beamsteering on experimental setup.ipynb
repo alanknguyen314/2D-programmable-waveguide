{
 "cells": [
  {
   "cell_type": "code",
   "execution_count": 1,
   "id": "aba61328-1eb9-41cd-9a54-fd62d582dce6",
   "metadata": {},
   "outputs": [],
   "source": [
    "#this hack is required to get the package working unfortunately.\n",
    "import sys\n",
    "import os\n",
    "# os.chdir(\"../..\")"
   ]
  },
  {
   "cell_type": "code",
   "execution_count": 2,
   "id": "ca2e2829-9a93-4ebd-8d1d-15f8ba35a347",
   "metadata": {},
   "outputs": [
    {
     "name": "stdout",
     "output_type": "stream",
     "text": [
      "('USB0::0x0699::0x03B4::C020764::INSTR', 'ASRL1::INSTR')\n",
      "Loading library: C:/Program Files/ALP-4.2/ALP-4.2 high-speed API/x64/alpV42.dll\n",
      "DMD found, resolution = 1024 x 768.\n"
     ]
    }
   ],
   "source": [
    "import matplotlib.pyplot as plt\n",
    "import numpy as np\n",
    "\n",
    "from tdwg.lib.DMD import DMD, apply_image_hold\n",
    "from tdwg.lib.DMD_patterns import generate_angled_grating, sawtooth_img, generate_horizontal_grating, generate_vertical_grating, generate_all_on, generate_beamsteering_edge, generate_all_off\n",
    "\n",
    "# from lib.GoldeyeCamera import take_sequence, load_sequence_img\n",
    "\n",
    "import time\n",
    "import os"
   ]
  },
  {
   "cell_type": "code",
   "execution_count": 4,
   "id": "6e1424e7-6416-4383-9d38-77052a761fe7",
   "metadata": {},
   "outputs": [],
   "source": [
    "import matplotlib.pyplot as plt\n",
    "import numpy as np\n",
    "import pyvisa as visa\n",
    "\n",
    "import tdwg.lib.spectrometer as sm\n",
    "from tdwg.lib.tektronixAFG1022 import TektronixAFG1022\n",
    "from tdwg.lib.tektronixTBS1104 import TektronixTBS1104"
   ]
  },
  {
   "cell_type": "code",
   "execution_count": 5,
   "id": "64207d9a-404b-4a00-862e-706aa387b6ca",
   "metadata": {},
   "outputs": [
    {
     "name": "stdout",
     "output_type": "stream",
     "text": [
      "Connected to  TEKTRONIX,TBS 1104,C020764,CF:91.1CT FV:v26.05\n",
      "\n"
     ]
    }
   ],
   "source": [
    "# afg = TektronixAFG1022('USB0::0x0699::0x0353::2033108::INSTR')\n",
    "osc = TektronixTBS1104('USB0::0x0699::0x03B4::C020764::INSTR')"
   ]
  },
  {
   "cell_type": "markdown",
   "id": "991cea1b-55a8-43b7-9e27-08ada5dd63ce",
   "metadata": {},
   "source": [
    "##  Check alignment - on pylon camera"
   ]
  },
  {
   "cell_type": "code",
   "execution_count": 18,
   "id": "a58f734d-51c8-40f9-8117-9efaf2681919",
   "metadata": {},
   "outputs": [
    {
     "name": "stdout",
     "output_type": "stream",
     "text": [
      "Number of rows is not divisible by len_1s + len_0s; incomplete grating\n"
     ]
    },
    {
     "data": {
      "text/plain": [
       "<matplotlib.image.AxesImage at 0x21f48f42d00>"
      ]
     },
     "execution_count": 18,
     "metadata": {},
     "output_type": "execute_result"
    },
    {
     "data": {
      "image/png": "[encoded data removed]",
      "text/plain": [
       "<Figure size 432x288 with 1 Axes>"
      ]
     },
     "metadata": {
      "needs_background": "light"
     },
     "output_type": "display_data"
    }
   ],
   "source": [
    "grating_period = 10 #use 20 to see gratings by eye, change to 1 to see on pylon camera\n",
    "img = generate_vertical_grating(grating_period)\n",
    "# img = generate_all_on()\n",
    "apply_image_hold(img) # img = take_img()\n",
    "\n",
    "plt.imshow(img)"
   ]
  },
  {
   "cell_type": "code",
   "execution_count": 61,
   "id": "5b404f45-fee3-4a02-b53a-a0e76fc07fc5",
   "metadata": {},
   "outputs": [],
   "source": [
    "img = generate_all_on()\n",
    "apply_image_hold(img)"
   ]
  },
  {
   "cell_type": "markdown",
   "id": "41a3d96f-b529-4cf2-aeb4-bd38a18daa30",
   "metadata": {},
   "source": [
    "##  Check electrical contacts"
   ]
  },
  {
   "cell_type": "markdown",
   "id": "a6d0e4ac-4feb-40b4-9bd3-f3c4d6716fd6",
   "metadata": {},
   "source": [
    "For the SRN6 chips, I get 3.15mA of current when I expect 2.55mA of current. \n",
    "This means that applying 860V would be too risky. Instead, I am going to apply 700Volts just to be on the safe side. \n",
    "\n",
    "Can measure number of fringes on the LN, to judge how much field I am applying in the chip itself."
   ]
  },
  {
   "cell_type": "code",
   "execution_count": 62,
   "id": "20186da7-0ee9-4bf9-bf67-f14855ad42e2",
   "metadata": {},
   "outputs": [],
   "source": [
    "from tdwg.lib.electrical_helpers import parallel_plate_cap, imp_cap, cap_series"
   ]
  },
  {
   "cell_type": "code",
   "execution_count": 63,
   "id": "6310da53-ce8b-457b-aeb0-8f7da6829b7e",
   "metadata": {},
   "outputs": [],
   "source": [
    "from tdwg.lib.conductivity_fits import eps_r_a4, eps_r_a6_2um"
   ]
  },
  {
   "cell_type": "code",
   "execution_count": 64,
   "id": "3e262aee-2534-418b-bdf2-3056d3e81928",
   "metadata": {},
   "outputs": [
    {
     "data": {
      "text/plain": [
       "(6.42989993, 8.16685487)"
      ]
     },
     "execution_count": 64,
     "metadata": {},
     "output_type": "execute_result"
    }
   ],
   "source": [
    "eps_r_a4, eps_r_a6_2um"
   ]
  },
  {
   "cell_type": "code",
   "execution_count": 73,
   "id": "bd69ccc0-6539-45d9-8588-49554d2a12f0",
   "metadata": {},
   "outputs": [],
   "source": [
    "# real current\n",
    "f = 100\n",
    "A = 22e-3 * 6e-3\n",
    "C1 = parallel_plate_cap(A, 1.85*2e-6, 8)\n",
    "C2 = parallel_plate_cap(A, 2e-6, 4)\n",
    "C3 = parallel_plate_cap(A, 700e-9, 30)\n",
    "C_total = cap_series([C1, C2, C3])\n",
    "Z = imp_cap(f, C_total)\n",
    "V = 210\n",
    "\n",
    "I_th = np.abs(V/Z)"
   ]
  },
  {
   "cell_type": "code",
   "execution_count": 74,
   "id": "761d8a2c-6502-494f-990d-6ff778384e41",
   "metadata": {},
   "outputs": [
    {
     "data": {
      "text/plain": [
       "0.00015642938057657633"
      ]
     },
     "execution_count": 74,
     "metadata": {},
     "output_type": "execute_result"
    }
   ],
   "source": [
    "I_th"
   ]
  },
  {
   "cell_type": "code",
   "execution_count": 75,
   "id": "211ef1ba-6bf4-47d7-8121-656317523d2f",
   "metadata": {},
   "outputs": [],
   "source": [
    "t, V3 = osc.get_trace(channel=3)\n",
    "I_exp = (V3.max() - V3.min()) / 2 * 1e-3"
   ]
  },
  {
   "cell_type": "code",
   "execution_count": 76,
   "id": "4cd4ce92-7e95-4905-afc2-51b9d7a4a51d",
   "metadata": {},
   "outputs": [
    {
     "data": {
      "text/plain": [
       "0.00019800000000000002"
      ]
     },
     "execution_count": 76,
     "metadata": {},
     "output_type": "execute_result"
    }
   ],
   "source": [
    "I_exp"
   ]
  },
  {
   "cell_type": "code",
   "execution_count": 155,
   "id": "dc02cdc9-9d6a-45cf-a070-3d6fc80e8d1e",
   "metadata": {},
   "outputs": [],
   "source": [
    "t, V3 = osc.get_trace(channel=3)\n",
    "I_parasitic_exp = (V3.max() - V3.min()) / 2 * 1e-3"
   ]
  },
  {
   "cell_type": "code",
   "execution_count": 156,
   "id": "6ee8e787-5bdc-42e7-8a7c-b138d4a9ebd1",
   "metadata": {},
   "outputs": [
    {
     "data": {
      "text/plain": [
       "0.0"
      ]
     },
     "execution_count": 156,
     "metadata": {},
     "output_type": "execute_result"
    }
   ],
   "source": [
    "I_exp - I_parasitic_exp"
   ]
  },
  {
   "cell_type": "code",
   "execution_count": 54,
   "id": "e2ec3e64-2b5e-4d4c-991e-e0f1bb371070",
   "metadata": {},
   "outputs": [
    {
     "data": {
      "text/plain": [
       "0.3374084793548182"
      ]
     },
     "execution_count": 54,
     "metadata": {},
     "output_type": "execute_result"
    }
   ],
   "source": [
    "# parasitic capacity\n",
    "Z_parasitic = np.abs(V/I_parasitic_exp)\n",
    "C_parasitic = 1 / 2 / np.pi / f / Z_parasitic\n",
    "C_parasitic * 1e9"
   ]
  },
  {
   "cell_type": "markdown",
   "id": "5df636a2-3512-404f-a0d0-4d1b73bda205",
   "metadata": {},
   "source": [
    "## Beamsteering\n",
    "Use following code to align the chip with beamsteering"
   ]
  },
  {
   "cell_type": "code",
   "execution_count": 209,
   "id": "a15ee709-c2a1-4582-97f2-afedb11da7c2",
   "metadata": {},
   "outputs": [],
   "source": [
    "#between 40 and 90 looks promising"
   ]
  },
  {
   "cell_type": "code",
   "execution_count": 253,
   "id": "10193065-6f08-48df-ae0b-799dce12e80c",
   "metadata": {},
   "outputs": [],
   "source": [
    "img = generate_beamsteering_edge(0.1, 352)\n",
    "apply_image_hold(img)"
   ]
  },
  {
   "cell_type": "code",
   "execution_count": 247,
   "id": "b8586fdc-cafd-4683-ab6a-5259f94ab638",
   "metadata": {},
   "outputs": [],
   "source": [
    "img = generate_beamsteering_edge(1, 352-100)\n",
    "apply_image_hold(img)"
   ]
  },
  {
   "cell_type": "code",
   "execution_count": 272,
   "id": "5db946cd-07a3-4fbb-89f1-1bc7fe7ffc30",
   "metadata": {},
   "outputs": [
    {
     "name": "stdout",
     "output_type": "stream",
     "text": [
      "58\n",
      "60\n",
      "62\n",
      "64\n"
     ]
    }
   ],
   "source": [
    "for i in np.arange(58, 65, 2):\n",
    "    img = generate_beamsteering_edge(0.4, 352-i)\n",
    "    apply_image_hold(img)\n",
    "    print(i)\n",
    "    time.sleep(3)"
   ]
  },
  {
   "cell_type": "code",
   "execution_count": 308,
   "id": "8618ca4a-c78e-4acb-8ddb-75f348dad065",
   "metadata": {},
   "outputs": [],
   "source": [
    "img = generate_beamsteering_edge(0.2, 352-52)"
   ]
  },
  {
   "cell_type": "code",
   "execution_count": 295,
   "id": "6f7bac80-81b4-4f7c-bc43-f6315734a000",
   "metadata": {},
   "outputs": [
    {
     "name": "stdout",
     "output_type": "stream",
     "text": [
      "40\n",
      "45\n",
      "50\n",
      "55\n",
      "60\n"
     ]
    }
   ],
   "source": [
    "for i in np.arange(40, 61, 5):\n",
    "    print(i)\n",
    "    img = generate_beamsteering_edge(0.2, 352-i)\n",
    "    apply_image_hold(img)\n",
    "    time.sleep(2)"
   ]
  },
  {
   "cell_type": "code",
   "execution_count": 249,
   "id": "c078d0ad-5dca-4d53-a143-937a8f124f8a",
   "metadata": {},
   "outputs": [],
   "source": [
    "t, V4_beamsteering = osc.get_trace(channel=4)\n",
    "# t, V1 = osc.get_trace(channel=1)"
   ]
  }
 ],
 "metadata": {
  "kernelspec": {
   "display_name": "Python 3",
   "language": "python",
   "name": "python3"
  },
  "language_info": {
   "codemirror_mode": {
    "name": "ipython",
    "version": 3
   },
   "file_extension": ".py",
   "mimetype": "text/x-python",
   "name": "python",
   "nbconvert_exporter": "python",
   "pygments_lexer": "ipython3",
   "version": "3.8.8"
  }
 },
 "nbformat": 4,
 "nbformat_minor": 5
}
